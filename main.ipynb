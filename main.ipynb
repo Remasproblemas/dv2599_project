{
 "cells": [
  {
   "cell_type": "markdown",
   "metadata": {},
   "source": [
    "<center>\n",
    "<h2>DV2599 - PROJECT</h2>\n",
    "<h3>Predicting Payment date</h3>\n",
    "<h4>\n",
    "Rasmus Dunder - radn21@student.bth.se\n",
    "</h4>\n",
    "<h4>\n",
    "Rasmus Johansson - rajo22@student.bth.se\n",
    "</h4>\n",
    "</center>"
   ]
  },
  {
   "cell_type": "markdown",
   "metadata": {},
   "source": [
    "#### Import modules / libraries"
   ]
  },
  {
   "cell_type": "code",
   "execution_count": 233,
   "metadata": {},
   "outputs": [],
   "source": [
    "import pandas as pd\n",
    "import datetime\n",
    "import math"
   ]
  },
  {
   "cell_type": "markdown",
   "metadata": {},
   "source": [
    "#### Data cleaning"
   ]
  },
  {
   "cell_type": "code",
   "execution_count": 238,
   "metadata": {},
   "outputs": [
    {
     "name": "stdout",
     "output_type": "stream",
     "text": [
      "Ratios: isOpen\n",
      "0    80.0\n",
      "1    20.0\n",
      "Name: count, dtype: float64\n",
      "Counts: isOpen\n",
      "0    40000\n",
      "1    10000\n",
      "Name: count, dtype: int64\n",
      "\n",
      "Null values in the dataset: 6\n",
      "\n",
      "  business_code cust_number clear_date posting_date due_in_date  \\\n",
      "0          U001   200769623 2020-02-11   2020-01-26  2020-02-10   \n",
      "1          U001   200980828 2019-08-08   2019-07-22  2019-08-11   \n",
      "\n",
      "   total_open_amount cust_payment_terms  payment_term  delayed_payment_days  \\\n",
      "0           54273.28               NAH4            15                     1   \n",
      "1           79656.60               NAD1            20                    -3   \n",
      "\n",
      "   payed_on_time  \n",
      "0          False  \n",
      "1           True  \n"
     ]
    }
   ],
   "source": [
    "df = pd.read_csv('dataset.csv')\n",
    "\n",
    "df = df.drop(columns=['name_customer', 'buisness_year', 'invoice_currency', 'doc_id','posting_id', 'area_business','document type', 'baseline_create_date', 'document_create_date.1', 'document_create_date'])\n",
    "\n",
    "# df['invoice_id'] = df['invoice_id'].astype(str)\n",
    "not_yetpayed = df['isOpen'].value_counts().sort_index()\n",
    "quality_ratios = round((not_yetpayed / not_yetpayed.sum()),4) * 100\n",
    "print(f\"Ratios: {quality_ratios}\")\n",
    "print(f\"Counts: {not_yetpayed}\")\n",
    "\n",
    "# Drop all Columns where invoice is not yet paid\n",
    "df = df[df['isOpen'] == 0]\n",
    "\n",
    "print(f\"\\nNull values in the dataset: {sum(df.isnull().sum(axis=1))}\\n\")\n",
    "\n",
    "df.dropna(inplace=True)\n",
    "\n",
    "# print(df['invoice_id'].value_counts())\n",
    "df.drop_duplicates(subset=['invoice_id'], inplace=True)\n",
    "\n",
    "df = df.drop(columns=['invoice_id', 'isOpen'])\n",
    "\n",
    "df['due_in_date'] = pd.to_datetime(df['due_in_date'], format='%Y%m%d')\n",
    "df['clear_date'] = pd.to_datetime(df['clear_date'],  errors='coerce')\n",
    "df['posting_date'] = pd.to_datetime(df['posting_date'], format='%m/%d/%Y')\n",
    "\n",
    "# Drop Columns where due_in_date is before posting date\n",
    "df = df[df['due_in_date'] >= df['posting_date']]\n",
    "\n",
    "\n",
    "df['payment_term'] = (df['due_in_date'] - df['posting_date']).dt.days\n",
    "df['delayed_payment_days'] = (df['clear_date'] - df['due_in_date']).dt.days\n",
    "df['payed_on_time'] = df['delayed_payment_days'] <= 0\n",
    "\n",
    "print(df.iloc[0:2])"
   ]
  },
  {
   "cell_type": "markdown",
   "metadata": {},
   "source": [
    "Att tänka på\n",
    "\n",
    "- Outliers\n",
    "- Normalisering"
   ]
  }
 ],
 "metadata": {
  "kernelspec": {
   "display_name": "venv",
   "language": "python",
   "name": "python3"
  },
  "language_info": {
   "codemirror_mode": {
    "name": "ipython",
    "version": 3
   },
   "file_extension": ".py",
   "mimetype": "text/x-python",
   "name": "python",
   "nbconvert_exporter": "python",
   "pygments_lexer": "ipython3",
   "version": "3.12.3"
  }
 },
 "nbformat": 4,
 "nbformat_minor": 2
}
