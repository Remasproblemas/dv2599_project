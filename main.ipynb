{
 "cells": [
  {
   "cell_type": "markdown",
   "metadata": {},
   "source": [
    "<center>\n",
    "<h2>DV2599 - PROJECT</h2>\n",
    "<h3>Predicting Payment date</h3>\n",
    "<h4>\n",
    "Rasmus Dunder - radn21@student.bth.se\n",
    "</h4>\n",
    "<h4>\n",
    "Rasmus Johansson - rajo22@student.bth.se\n",
    "</h4>\n",
    "</center>"
   ]
  },
  {
   "cell_type": "markdown",
   "metadata": {},
   "source": [
    "#### Import modules / libraries"
   ]
  },
  {
   "cell_type": "code",
   "execution_count": 12,
   "metadata": {},
   "outputs": [],
   "source": [
    "import pandas as pd"
   ]
  },
  {
   "cell_type": "markdown",
   "metadata": {},
   "source": [
    "#### Data cleaning"
   ]
  },
  {
   "cell_type": "code",
   "execution_count": 35,
   "metadata": {},
   "outputs": [
    {
     "name": "stdout",
     "output_type": "stream",
     "text": [
      "Ratios: isOpen\n",
      "0    80.0\n",
      "1    20.0\n",
      "Name: count, dtype: float64\n",
      "Counts: isOpen\n",
      "0    40000\n",
      "1    10000\n",
      "Name: count, dtype: int64\n",
      "\n",
      "Null values in the dataset: 6\n",
      "\n",
      "Null values in the dataset: 0\n"
     ]
    }
   ],
   "source": [
    "import math\n",
    "df = pd.read_csv('dataset.csv')\n",
    "\n",
    "df = df.drop(columns=['buisness_year', 'invoice_currency', 'doc_id','document_create_date','document_create_date.1','posting_id', 'area_business','document type', 'baseline_create_date'])\n",
    "\n",
    "not_yetpayed = df['isOpen'].value_counts().sort_index()\n",
    "quality_ratios = round((not_yetpayed / not_yetpayed.sum()),4) * 100\n",
    "print(f\"Ratios: {quality_ratios}\")\n",
    "print(f\"Counts: {not_yetpayed}\")\n",
    "\n",
    "df = df[df['isOpen'] == 0]\n",
    "\n",
    "print(f\"\\nNull values in the dataset: {sum(df.isnull().sum(axis=1))}\")\n",
    "\n",
    "df.dropna(inplace=True)"
   ]
  },
  {
   "cell_type": "markdown",
   "metadata": {},
   "source": [
    "Att tänka på\n",
    "\n",
    "- Outliers\n",
    "- Normalisering\n",
    "- Bort med onödiga kolumner"
   ]
  }
 ],
 "metadata": {
  "kernelspec": {
   "display_name": "base",
   "language": "python",
   "name": "python3"
  },
  "language_info": {
   "codemirror_mode": {
    "name": "ipython",
    "version": 3
   },
   "file_extension": ".py",
   "mimetype": "text/x-python",
   "name": "python",
   "nbconvert_exporter": "python",
   "pygments_lexer": "ipython3",
   "version": "3.11.5"
  }
 },
 "nbformat": 4,
 "nbformat_minor": 2
}
