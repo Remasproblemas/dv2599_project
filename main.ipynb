{
 "cells": [
  {
   "cell_type": "markdown",
   "metadata": {},
   "source": [
    "<center>\n",
    "<h2>DV2599 - PROJECT</h2>\n",
    "<h3>Predicting Payment date</h3>\n",
    "<h4>\n",
    "Rasmus Dunder - radn21@student.bth.se\n",
    "</h4>\n",
    "<h4>\n",
    "Rasmus Johansson - rajo22@student.bth.se\n",
    "</h4>\n",
    "</center>"
   ]
  },
  {
   "cell_type": "markdown",
   "metadata": {},
   "source": [
    "#### Import modules / libraries"
   ]
  },
  {
   "cell_type": "code",
   "execution_count": 2,
   "metadata": {},
   "outputs": [],
   "source": [
    "import pandas as pd\n",
    "import datetime\n",
    "import math"
   ]
  },
  {
   "cell_type": "markdown",
   "metadata": {},
   "source": [
    "#### Data cleaning"
   ]
  },
  {
   "cell_type": "code",
   "execution_count": 3,
   "metadata": {},
   "outputs": [
    {
     "name": "stdout",
     "output_type": "stream",
     "text": [
      "Ratios: isOpen\n",
      "0    80.0\n",
      "1    20.0\n",
      "Name: count, dtype: float64\n",
      "Counts: isOpen\n",
      "0    40000\n",
      "1    10000\n",
      "Name: count, dtype: int64\n",
      "\n",
      "Null values in the dataset: 6\n",
      "\n",
      "  business_code cust_number clear_date posting_date due_in_date  \\\n",
      "0          U001   200769623 2020-02-11   2020-01-26  2020-02-10   \n",
      "1          U001   200980828 2019-08-08   2019-07-22  2019-08-11   \n",
      "\n",
      "   total_open_amount cust_payment_terms  payment_term  delayed_payment_days  \\\n",
      "0           54273.28               NAH4            15                     1   \n",
      "1           79656.60               NAD1            20                    -3   \n",
      "\n",
      "   payed_on_time  \n",
      "0          False  \n",
      "1           True  \n"
     ]
    }
   ],
   "source": [
    "#Importing the dataset\n",
    "df = pd.read_csv('dataset.csv')\n",
    "\n",
    "#Dropping not needed columns\n",
    "df = df.drop(columns=['name_customer', 'buisness_year', 'invoice_currency', 'doc_id','posting_id', 'area_business','document type', 'baseline_create_date', 'document_create_date.1', 'document_create_date'])\n",
    "\n",
    "# df['invoice_id'] = df['invoice_id'].astype(str)\n",
    "# Print ratio of open/closed invoices\n",
    "not_yetpayed = df['isOpen'].value_counts().sort_index()\n",
    "quality_ratios = round((not_yetpayed / not_yetpayed.sum()),4) * 100\n",
    "print(f\"Ratios: {quality_ratios}\")\n",
    "print(f\"Counts: {not_yetpayed}\")\n",
    "\n",
    "# Drop all Columns where invoice is not yet paid\n",
    "df = df[df['isOpen'] == 0]\n",
    "\n",
    "#Printing the nullvalues in the dataset\n",
    "print(f\"\\nNull values in the dataset: {sum(df.isnull().sum(axis=1))}\\n\")\n",
    "\n",
    "#Dropping the nullvalues\n",
    "df.dropna(inplace=True)\n",
    "\n",
    "#Dropping the duplicates from the dataset\n",
    "df.drop_duplicates(subset=['invoice_id'], inplace=True)\n",
    "\n",
    "#Removing now not needed columns\n",
    "df = df.drop(columns=['invoice_id', 'isOpen'])\n",
    "\n",
    "#Making all dates the same type\n",
    "df['due_in_date'] = pd.to_datetime(df['due_in_date'], format='%Y%m%d')\n",
    "df['clear_date'] = pd.to_datetime(df['clear_date'],  errors='coerce')\n",
    "df['posting_date'] = pd.to_datetime(df['posting_date'], format='%m/%d/%Y')\n",
    "\n",
    "# Drop Columns where due_in_date is before posting date\n",
    "df = df[df['due_in_date'] >= df['posting_date']]\n",
    "\n",
    "#Creating 3 new columns\n",
    "df['payment_term'] = (df['due_in_date'] - df['posting_date']).dt.days\n",
    "df['delayed_payment_days'] = (df['clear_date'] - df['due_in_date']).dt.days\n",
    "df['payed_on_time'] = df['delayed_payment_days'] <= 0\n",
    "\n",
    "print(df.iloc[0:2])"
   ]
  },
  {
   "cell_type": "markdown",
   "metadata": {},
   "source": [
    "Att tänka på\n",
    "\n",
    "- Outliers\n",
    "- Normalisering"
   ]
  },
  {
   "cell_type": "code",
   "execution_count": 16,
   "metadata": {},
   "outputs": [
    {
     "name": "stdout",
     "output_type": "stream",
     "text": [
      "Ratios: payed_on_time\n",
      "False    41.76\n",
      "True     58.24\n",
      "Name: count, dtype: float64\n",
      "Counts: payed_on_time\n",
      "False    16308\n",
      "True     22740\n",
      "Name: count, dtype: int64\n",
      "Ratios: delayed_payment_days\n",
      "-89     0.00\n",
      "-87     0.00\n",
      "-79     0.00\n",
      "-75     0.01\n",
      "-74     0.01\n",
      "        ... \n",
      " 157    0.00\n",
      " 171    0.00\n",
      " 195    0.00\n",
      " 202    0.00\n",
      " 204    0.00\n",
      "Name: count, Length: 175, dtype: float64\n",
      "Counts: delayed_payment_days\n",
      "-89     1\n",
      "-87     1\n",
      "-79     1\n",
      "-75     5\n",
      "-74     5\n",
      "       ..\n",
      " 157    1\n",
      " 171    1\n",
      " 195    1\n",
      " 202    1\n",
      " 204    1\n",
      "Name: count, Length: 175, dtype: int64\n",
      "Number of outliers on Value 1018\n",
      "Outlier value range: Min = 32, Max = 204\n",
      "['business_code', 'cust_number', 'clear_date', 'posting_date', 'due_in_date', 'total_open_amount', 'cust_payment_terms', 'payment_term', 'delayed_payment_days', 'payed_on_time']\n"
     ]
    }
   ],
   "source": [
    "from scipy import stats\n",
    "\n",
    "#Checking for ratio on True/False\n",
    "payed_time = df['payed_on_time'].value_counts().sort_index()\n",
    "quality_ratios = round((payed_time / payed_time.sum()),4) * 100\n",
    "print(f\"Ratios: {quality_ratios}\")\n",
    "print(f\"Counts: {payed_time}\")\n",
    "\n",
    "#Checking for ratio on days\n",
    "payed_time = df['delayed_payment_days'].value_counts().sort_index()\n",
    "quality_ratios = round((payed_time / payed_time.sum()),4) * 100\n",
    "print(f\"Ratios: {quality_ratios}\")\n",
    "print(f\"Counts: {payed_time}\")\n",
    "\n",
    "# Checking for outliers\n",
    "df_zscore = df.copy()\n",
    "df_zscore['Z-score']= stats.zscore(df_zscore['delayed_payment_days']) #Calculating z-score for Value\n",
    "threshold = 3\n",
    "df_icu_zscore = df_zscore [abs(df_zscore ['Z-score']) > threshold]\n",
    "print(\"Number of outliers on Value\", df_icu_zscore['delayed_payment_days'].count())\n",
    "zscore_min = abs(df_icu_zscore['delayed_payment_days']).min()\n",
    "zscore_max = abs(df_icu_zscore['delayed_payment_days']).max()\n",
    "print(f\"Outlier value range: Min = {zscore_min}, Max = {zscore_max}\")\n",
    "print(list(df.columns))\n",
    "\n",
    "df_payement_days = df.copy()\n",
    "df_payement_ontime = df.copy()\n",
    "\n",
    "df_payement_days = df_payement_days.drop(columns=['payed_on_time'])\n",
    "df_payement_ontime = df_payement_ontime.drop(columns=['delayed_payment_days'])"
   ]
  }
 ],
 "metadata": {
  "kernelspec": {
   "display_name": "base",
   "language": "python",
   "name": "python3"
  },
  "language_info": {
   "codemirror_mode": {
    "name": "ipython",
    "version": 3
   },
   "file_extension": ".py",
   "mimetype": "text/x-python",
   "name": "python",
   "nbconvert_exporter": "python",
   "pygments_lexer": "ipython3",
   "version": "3.11.5"
  }
 },
 "nbformat": 4,
 "nbformat_minor": 2
}
